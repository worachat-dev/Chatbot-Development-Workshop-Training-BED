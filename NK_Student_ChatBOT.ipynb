{
  "cells": [
    {
      "cell_type": "markdown",
      "source": [
        "# Chatbot Development Workshop Training : Building a Simple Chatbot from Scratch in Python (using NLTK), Worachat Wannawong, Ph.D. 2024\n"
      ],
      "metadata": {
        "id": "-AJtspVLAZsM"
      }
    },
    {
      "cell_type": "code",
      "source": [
        "# Chatbot Development Workshop Training\n",
        "# Building a Simple Chatbot from Scratch in Python (using NLTK)\n",
        "# Instructor: Worachat Wannawong, Ph.D. 2024\n",
        "\n",
        "# Import necessary libraries\n",
        "from nltk.chat.util import Chat, reflections\n",
        "\n",
        "# Define reflections for the chatbot\n",
        "print(\"Reflections dictionary:\")\n",
        "print(reflections)\n",
        "\n",
        "# Define pairs of patterns and responses\n",
        "pairs = [\n",
        "    ['Hello', ['Hi! How can I help you?']],\n",
        "    ['Need help', ['How can I help you?']],\n",
        "    ['I am Worachat', ['Nice to hear that']],\n",
        "    ['What is your name?', ['I am Chatbot and here to help you']],\n",
        "    ['What is Chatbot?', ['Chatbot is a python program to help you']]\n",
        "]\n",
        "\n",
        "# Create a Chat object with the defined pairs and reflections\n",
        "chat = Chat(pairs, reflections)\n",
        "\n",
        "# Start the conversation\n",
        "print(\"Type 'quit' to end the conversation.\")\n",
        "chat.converse()\n"
      ],
      "metadata": {
        "colab": {
          "base_uri": "https://localhost:8080/"
        },
        "id": "dLpPzNdWBRcr",
        "outputId": "0dbd7e22-353d-478f-e588-d7592445bd55"
      },
      "execution_count": 1,
      "outputs": [
        {
          "output_type": "stream",
          "name": "stdout",
          "text": [
            "Reflections dictionary:\n",
            "{'i am': 'you are', 'i was': 'you were', 'i': 'you', \"i'm\": 'you are', \"i'd\": 'you would', \"i've\": 'you have', \"i'll\": 'you will', 'my': 'your', 'you are': 'I am', 'you were': 'I was', \"you've\": 'I have', \"you'll\": 'I will', 'your': 'my', 'yours': 'mine', 'you': 'me', 'me': 'you'}\n",
            "Type 'quit' to end the conversation.\n",
            ">Hi\n",
            "None\n",
            ">hello\n",
            "Hi! How can I help you?\n",
            ">Need help\n",
            "How can I help you?\n",
            ">I am Worachat\n",
            "Nice to hear that\n",
            ">quit\n",
            "None\n"
          ]
        }
      ]
    },
    {
      "cell_type": "code",
      "source": [
        "#import reflections\n",
        "\n",
        "from nltk.chat.util import Chat,reflections\n",
        "reflections"
      ],
      "metadata": {
        "colab": {
          "base_uri": "https://localhost:8080/"
        },
        "id": "fRsTX9Axnp4x",
        "outputId": "661dc914-970e-4ea5-de51-bd45cfddc56c"
      },
      "execution_count": 2,
      "outputs": [
        {
          "output_type": "execute_result",
          "data": {
            "text/plain": [
              "{'i am': 'you are',\n",
              " 'i was': 'you were',\n",
              " 'i': 'you',\n",
              " \"i'm\": 'you are',\n",
              " \"i'd\": 'you would',\n",
              " \"i've\": 'you have',\n",
              " \"i'll\": 'you will',\n",
              " 'my': 'your',\n",
              " 'you are': 'I am',\n",
              " 'you were': 'I was',\n",
              " \"you've\": 'I have',\n",
              " \"you'll\": 'I will',\n",
              " 'your': 'my',\n",
              " 'yours': 'mine',\n",
              " 'you': 'me',\n",
              " 'me': 'you'}"
            ]
          },
          "metadata": {},
          "execution_count": 2
        }
      ]
    },
    {
      "cell_type": "code",
      "source": [
        "pairs=[\n",
        "    ['Hello',['Hi!, How can I help you?']],\n",
        "    ['Need help',['How can I help you?']],\n",
        "    ['I am Worachat',['Nice to hear that']],\n",
        "    ['What is your name?',['I am Chatbot and here to help you']],\n",
        "    ['What is Chatbot?',['Chatbot is python program to help you']]\n",
        "]\n",
        "\n",
        "chat=Chat(pairs,reflections)\n",
        "chat.converse()"
      ],
      "metadata": {
        "colab": {
          "base_uri": "https://localhost:8080/"
        },
        "id": "NyqzpP_ln6C5",
        "outputId": "0575b45e-114c-4b73-96b1-9e40ea4c8816"
      },
      "execution_count": 3,
      "outputs": [
        {
          "output_type": "stream",
          "name": "stdout",
          "text": [
            ">Hellow\n",
            "Hi!, How can I help you?\n",
            ">What is Chatbot?\n",
            "Chatbot is python program to help you\n",
            ">quit\n",
            "None\n"
          ]
        }
      ]
    },
    {
      "cell_type": "code",
      "execution_count": null,
      "metadata": {
        "id": "nCO71wNq8cIq",
        "colab": {
          "base_uri": "https://localhost:8080/"
        },
        "outputId": "c812832c-a80a-4f28-f994-4fbab214590c"
      },
      "outputs": [
        {
          "output_type": "stream",
          "name": "stdout",
          "text": [
            "\n",
            "User : hi\n",
            "\n",
            "BOT : hello! how are you?\n",
            "\n",
            "User : quit\n",
            "\n",
            "BOT : Why are you saying 'quit'?\n",
            "\n",
            "User : exit\n",
            "\n",
            "BOT : Why are you saying 'exit'?\n"
          ]
        }
      ],
      "source": [
        "#simple chat BOT v1.0.0\n",
        "\n",
        "import random\n",
        "\n",
        "#list for greetings\n",
        "A = [\n",
        "  \"hi\",\n",
        "  \"hey\",\n",
        "  \"hello\"\n",
        "]\n",
        "\n",
        "#list for questions\n",
        "B = [\n",
        "  \"how are you?\",\n",
        "  \"what's up?\",\n",
        "  \"are you okay?\",\n",
        "  \"are you fine?\"\n",
        "]\n",
        "\n",
        "C = [\n",
        "  \"what is your name?\",\n",
        "  \"who are you?\",\n",
        "  \"your identity?\"\n",
        "]\n",
        "\n",
        "#list for answers\n",
        "D = [\n",
        "  \"I'm good 😊\",\n",
        "  \"I'm fine 🙂\",\n",
        "  \"I'm ill 🤒\",\n",
        "  \"I'm happy 😌\",\n",
        "  \"I'm great 😎\"\n",
        "]\n",
        "\n",
        "E = [\n",
        "  \"My name is Bee.\",\n",
        "  \"I'm Bee,\",\n",
        "  \"My name is Bee. I'm your virtual assistant.\"\n",
        "]\n",
        "\n",
        "#random generator\n",
        "X1 = A[random.randint(0, 2)]\n",
        "X2 = B[random.randint(0, 3)]\n",
        "X3 = D[random.randint(0, 4)]\n",
        "X4 = E[random.randint(0, 2)]\n",
        "\n",
        "def list_Ai():\n",
        "\tprint ('BOT : '+X1+'!',X2)\n",
        "def list_Bi():\n",
        "\tprint ('BOT : '+X3,'BTW how about you?')\n",
        "def list_Ci():\n",
        "\tprint ('BOT : '+X4,'Nice to meet you.')\n",
        "def list_Q(ext):\n",
        "    print ('BOT : Why are you saying '+'\\''+ext+'\\''+'?')\n",
        "\n",
        "while not False:\n",
        "\ttry:\n",
        "\t\ttext = input('\\nUser : ').lower()\n",
        "\texcept EOFError:\n",
        "\t\tbreak\n",
        "\tprint()\n",
        "\tif not text:\n",
        "\t\tprint (\"BOT : Please ask me something. I'll answer your questions if possible ツ\")\n",
        "\t\tcontinue\n",
        "\telse:\n",
        "\t\tif A[0] in text or A[1] in text or A[2] in text:\n",
        "\t\t\tlist_Ai()\n",
        "\t\telif B[0] in text or B[1] in text or B[2] in text or B[3] in text:\n",
        "\t\t\tlist_Bi()\n",
        "\t\telif C[0] in text or C[1] in text or C[2] in text:\n",
        "\t\t\tlist_Ci()\n",
        "\t\telif text.endswith(\"?\"):\n",
        "\t\t\tprint (\"BOT : You are very chatty and inquisitive about everything ツ\")\n",
        "\t\telse:\n",
        "\t\t\tlist_Q(text)"
      ]
    },
    {
      "cell_type": "code",
      "execution_count": null,
      "metadata": {
        "id": "7RSGOzHfahZ7"
      },
      "outputs": [],
      "source": [
        "# Or try this\n",
        "\n",
        "while True:\n",
        "    try:\n",
        "        text = input('\\nUser : ').lower()\n",
        "    except EOFError:\n",
        "        break\n",
        "    print()\n",
        "    if not text:\n",
        "        print ('BOT : Please ask me something ツ')\n",
        "        continue\n",
        "    try:\n",
        "        print(\"BOT :\", B[A.index(text)//2])\n",
        "    except ValueError:\n",
        "        print(f\"BOT : Why are you saying '{text}'?\")"
      ]
    },
    {
      "cell_type": "markdown",
      "metadata": {
        "id": "NvyBvw0LahZ7"
      },
      "source": [
        "Demo\n",
        "\n",
        "********************************************\n",
        "\n",
        "User : Hi\n",
        "\n",
        "BOT : hello! how are you?\n",
        "\n",
        "User : Who are you?\n",
        "\n",
        "BOT : I'm Bee, Nice to meet you.\n",
        "\n",
        "User : How are you?\n",
        "\n",
        "BOT : I'm happy 😌 BTW how about you?\n",
        "\n",
        "......................................................................................\n",
        "\n",
        "......................................................................................\n",
        "\n",
        "......................................................................................"
      ]
    }
  ],
  "metadata": {
    "colab": {
      "provenance": []
    },
    "kernelspec": {
      "display_name": "Python 3",
      "name": "python3"
    },
    "language_info": {
      "name": "python"
    }
  },
  "nbformat": 4,
  "nbformat_minor": 0
}